{
 "cells": [
  {
   "cell_type": "code",
   "execution_count": null,
   "id": "3ee492ef",
   "metadata": {},
   "outputs": [
    {
     "name": "stdout",
     "output_type": "stream",
     "text": [
      "Addition: 35\n"
     ]
    }
   ],
   "source": [
    "#1.Add two numbers input by users\n",
    "num1=int(input(\"Enter a number:\"))\n",
    "num2=int(input(\"Enter a number:\"))\n",
    "print(\"Addition:\",num1+num2)"
   ]
  },
  {
   "cell_type": "code",
   "execution_count": null,
   "id": "14443af2",
   "metadata": {},
   "outputs": [
    {
     "name": "stdout",
     "output_type": "stream",
     "text": [
      "Area of a circle: 113.03999999999999\n"
     ]
    }
   ],
   "source": [
    "#2.Find the area of a circle\n",
    "r=int(input(\"Enter radius of a circle:\"))\n",
    "print(\"Area of a circle:\",3.14*r*r)"
   ]
  },
  {
   "cell_type": "code",
   "execution_count": null,
   "id": "994eb948",
   "metadata": {},
   "outputs": [
    {
     "name": "stdout",
     "output_type": "stream",
     "text": [
      "Temparature in fahrenheat: 89.6\n"
     ]
    }
   ],
   "source": [
    "#3.Converting celsius to fahrenheit\n",
    "c=int(input(\"Enter temparature in celsius:\"))\n",
    "print(\"Temparature in fahrenheat:\",(c*9/5)+32)"
   ]
  },
  {
   "cell_type": "code",
   "execution_count": null,
   "id": "e002219c",
   "metadata": {},
   "outputs": [
    {
     "name": "stdout",
     "output_type": "stream",
     "text": [
      "The given number is Even\n"
     ]
    }
   ],
   "source": [
    "#4.Checking a number is even or odd using modular operator\n",
    "num=int(input(\"Enter a number:\"))\n",
    "if num%2==0:\n",
    "    print(\"The given number is Even\")\n",
    "else:\n",
    "    print(\"The given number is Odd\")"
   ]
  },
  {
   "cell_type": "code",
   "execution_count": null,
   "id": "5faec826",
   "metadata": {},
   "outputs": [
    {
     "name": "stdout",
     "output_type": "stream",
     "text": [
      "Square of the given num: 16\n",
      "Cube of the given num: 64\n"
     ]
    }
   ],
   "source": [
    "#5.Finding the square and cube of a number\n",
    "num=int(input(\"Enter a number:\"))\n",
    "print(\"Square of the given num:\",num**2)\n",
    "print(\"Cube of the given num:\",num**3)"
   ]
  },
  {
   "cell_type": "code",
   "execution_count": 7,
   "id": "f0af201b",
   "metadata": {},
   "outputs": [
    {
     "name": "stdout",
     "output_type": "stream",
     "text": [
      "Lenght of the given string: 5\n"
     ]
    }
   ],
   "source": [
    "#6.Taking a string input and finding its length\n",
    "st=input(\"Enetr the string:\")\n",
    "print(\"Lenght of the given string:\",len(st))"
   ]
  },
  {
   "cell_type": "code",
   "execution_count": 9,
   "id": "9b1ff2c2",
   "metadata": {},
   "outputs": [
    {
     "name": "stdout",
     "output_type": "stream",
     "text": [
      "Reverse of the given string: ANAHGEM\n"
     ]
    }
   ],
   "source": [
    "#7.Reverse of a string\n",
    "st=input(\"Enter a string\")\n",
    "print(\"Reverse of the given string:\",st[::-1])"
   ]
  },
  {
   "cell_type": "code",
   "execution_count": 11,
   "id": "8bef7969",
   "metadata": {},
   "outputs": [
    {
     "name": "stdout",
     "output_type": "stream",
     "text": [
      "The given string is palindrome\n"
     ]
    }
   ],
   "source": [
    "#8.Checking if a string is palindrome or not\n",
    "str=input(\"Enter a string:\")\n",
    "if str==str[::-1]:\n",
    "    print(\"The given string is palindrome\")\n",
    "else:\n",
    "    print(\"Not palindrome\")"
   ]
  },
  {
   "cell_type": "code",
   "execution_count": 14,
   "id": "5bd07e67",
   "metadata": {},
   "outputs": [
    {
     "name": "stdout",
     "output_type": "stream",
     "text": [
      "Vowesl count: 3\n"
     ]
    }
   ],
   "source": [
    "#9.counting vowels in the given string\n",
    "vowels=\"aeiouAEIOU\"\n",
    "str=input(\"Enter a string:\")\n",
    "count=0\n",
    "for ch in str:\n",
    "    if ch in vowels:\n",
    "        count+=1\n",
    "print(\"Vowesl count:\",count)"
   ]
  },
  {
   "cell_type": "code",
   "execution_count": 16,
   "id": "4684d30d",
   "metadata": {},
   "outputs": [
    {
     "name": "stdout",
     "output_type": "stream",
     "text": [
      "Concatination of two string: happyBirthday\n"
     ]
    }
   ],
   "source": [
    "#10.Concatinating two numbers and printing the results\n",
    "str1=input(\"Enter a string:\")\n",
    "str2=input(\"Enter another string:\")\n",
    "print(\"Concatination of two string:\",str1+str2)"
   ]
  },
  {
   "cell_type": "code",
   "execution_count": 18,
   "id": "11f05ce1",
   "metadata": {},
   "outputs": [
    {
     "name": "stdout",
     "output_type": "stream",
     "text": [
      "sum of numbers in list: 20\n"
     ]
    }
   ],
   "source": [
    "#11.Creating a list of 5 number and finding its sum\n",
    "nums=[int(input(\"Num:\")) for nums in range(5)]\n",
    "print(\"sum of numbers in list:\",sum(nums))\n"
   ]
  },
  {
   "cell_type": "code",
   "execution_count": null,
   "id": "158b48f3",
   "metadata": {},
   "outputs": [
    {
     "name": "stdout",
     "output_type": "stream",
     "text": [
      "Maximun number in the given list: 6\n",
      "Minimum number in the given list: 1\n"
     ]
    }
   ],
   "source": [
    "#12.Finding the smallest and Largest numbers in the list\n",
    "nums=[2,6,1,4,5]\n",
    "print(\"Maximun number in the given list:\",max(nums))\n",
    "print(\"Minimum number in the given list:\",min(nums))"
   ]
  },
  {
   "cell_type": "code",
   "execution_count": 21,
   "id": "c56d1e99",
   "metadata": {},
   "outputs": [
    {
     "name": "stdout",
     "output_type": "stream",
     "text": [
      "No\n"
     ]
    }
   ],
   "source": [
    "#13.Checking if a specific element exists in a list\n",
    "list1=[14,2,6,13,77]\n",
    "x=int(input(\"Enter the element to find in the list: \"))\n",
    "if x in list1:\n",
    "    print(\"The element exists in the list\")\n",
    "else:\n",
    "    print(\"No\")"
   ]
  },
  {
   "cell_type": "code",
   "execution_count": 22,
   "id": "ab79ceab",
   "metadata": {},
   "outputs": [
    {
     "name": "stdout",
     "output_type": "stream",
     "text": [
      "list of the tuple: [3, 8, 22, 5, 12]\n",
      "tuple of the list: (3, 8, 22, 5, 12)\n"
     ]
    }
   ],
   "source": [
    "#14.Converting a tuple into list and list into tuple\n",
    "nums=3,8,22,5,12\n",
    "tup=tuple(nums)\n",
    "print(\"list of the tuple:\",list(tup))\n",
    "lis=list(tup)\n",
    "print(\"tuple of the list:\",tuple(lis))\n"
   ]
  },
  {
   "cell_type": "code",
   "execution_count": 23,
   "id": "2116923e",
   "metadata": {},
   "outputs": [
    {
     "name": "stdout",
     "output_type": "stream",
     "text": [
      "Asending order of the list: [5, 10, 12, 23, 33]\n"
     ]
    }
   ],
   "source": [
    "#15.sorting a list in asending order\n",
    "list=[23,5,12,33,10]\n",
    "print(\"Asending order of the list:\",sorted(list))"
   ]
  },
  {
   "cell_type": "code",
   "execution_count": 30,
   "id": "48b8186a",
   "metadata": {},
   "outputs": [
    {
     "name": "stdout",
     "output_type": "stream",
     "text": [
      "Names of the persons\n",
      "meghana\n",
      "bhargavi\n",
      "harshini\n"
     ]
    }
   ],
   "source": [
    "#16.Creating a dictionary with name and age of 3 people and printing each persons name\n",
    "people = {}\n",
    "for i in range(3):\n",
    "    name = input(\"Enter name: \")\n",
    "    age = int(input(\"Enter age: \"))\n",
    "    people[name] = age\n",
    "print(\"Names of the persons\")\n",
    "for name in people:\n",
    "    print(name)"
   ]
  },
  {
   "cell_type": "code",
   "execution_count": 31,
   "id": "317a454f",
   "metadata": {},
   "outputs": [
    {
     "name": "stdout",
     "output_type": "stream",
     "text": [
      "New dict: {'Maths': 88, 'English': 90, 'Science': 89}\n"
     ]
    }
   ],
   "source": [
    "#17.Adding a new key-value pair to the dict\n",
    "marks={\"Maths\":88,\"English\":90} \n",
    "sub=input(\"Enter a new subject:\")\n",
    "sco=int(input(\"Enter marks:\"))\n",
    "marks[sub]=sco\n",
    "print(\"New dict:\",marks)"
   ]
  },
  {
   "cell_type": "code",
   "execution_count": 33,
   "id": "f046d9b0",
   "metadata": {},
   "outputs": [
    {
     "name": "stdout",
     "output_type": "stream",
     "text": [
      "Doesn't exist\n"
     ]
    }
   ],
   "source": [
    "#18.checking if key exists in the dictionary\n",
    "marks={'Maths': 88, 'English': 90, 'Science': 89}\n",
    "key=input(\"Enter the target value:\")\n",
    "if key in marks:\n",
    "    print(\"Key exists\")\n",
    "else:\n",
    "    print(\"Doesn't exist\")"
   ]
  },
  {
   "cell_type": "code",
   "execution_count": 35,
   "id": "0aa58ea1",
   "metadata": {},
   "outputs": [
    {
     "name": "stdout",
     "output_type": "stream",
     "text": [
      "Union of tw0 sets: {2, 6, 8, 11, 14, 19, 22, 23}\n",
      "Intersection of two sets {22}\n"
     ]
    }
   ],
   "source": [
    "#19.Find the union and intersection of two sets\n",
    "set1={22,14,8,2}\n",
    "set2={6,19,23,11,22}\n",
    "print(\"Union of tw0 sets:\",set1|set2)\n",
    "print(\"Intersection of two sets\",set1&set2)"
   ]
  },
  {
   "cell_type": "code",
   "execution_count": 37,
   "id": "7d8087f4",
   "metadata": {},
   "outputs": [
    {
     "name": "stdout",
     "output_type": "stream",
     "text": [
      "list without duplicates: {32, 2, 3, 6, 12, 55}\n"
     ]
    }
   ],
   "source": [
    "#20.Removing duplicates from a list using set\n",
    "list=[2,32,12,55,3,12,6,32]\n",
    "list1=set(list)\n",
    "print(\"list without duplicates:\",list1)"
   ]
  },
  {
   "cell_type": "code",
   "execution_count": 38,
   "id": "d4129721",
   "metadata": {},
   "outputs": [
    {
     "name": "stdout",
     "output_type": "stream",
     "text": [
      "The given number is negative\n"
     ]
    }
   ],
   "source": [
    "#21.checking if given number is positive,negative or zero\n",
    "num=int(input(\"Enter a number\"))\n",
    "if num > 0:\n",
    "    print(\"The given numner is positive\")\n",
    "elif num < 0:\n",
    "    print(\"The given number is negative\")\n",
    "else:\n",
    "    print(\"Zero\")"
   ]
  },
  {
   "cell_type": "code",
   "execution_count": 39,
   "id": "344648f8",
   "metadata": {},
   "outputs": [
    {
     "name": "stdout",
     "output_type": "stream",
     "text": [
      "The given year is a leap year\n"
     ]
    }
   ],
   "source": [
    "#22.Checking if year is leap year or not\n",
    "year=int(input(\"Enter the year\"))\n",
    "if year%4==0 and year%100!=0 or  year%400==0:\n",
    "    print(\"The given year is a leap year\")"
   ]
  },
  {
   "cell_type": "code",
   "execution_count": 41,
   "id": "28e0f556",
   "metadata": {},
   "outputs": [
    {
     "name": "stdout",
     "output_type": "stream",
     "text": [
      "23\n",
      "45\n",
      "12\n",
      "num2 is maximum\n"
     ]
    }
   ],
   "source": [
    "#23.finding the maximum of 3 numbers\n",
    "num1=int(input(\"Enter a number\"))\n",
    "print(num1)\n",
    "num2=int(input(\"Enter a number\"))\n",
    "print(num2)\n",
    "num3=int(input(\"Enter a number\"))\n",
    "print(num3)\n",
    "if num1>num2 and num1>num3:\n",
    "    print(\"num1 is maximum\")\n",
    "elif num2>num1 and num2>num3:\n",
    "    print(\"num2 is maximum\")\n",
    "else:\n",
    "    print(\"num3 is maximum\")"
   ]
  },
  {
   "cell_type": "code",
   "execution_count": 45,
   "id": "2def7b18",
   "metadata": {},
   "outputs": [
    {
     "name": "stdout",
     "output_type": "stream",
     "text": [
      "15\n",
      "The num is divisible by both 3 and 5\n"
     ]
    }
   ],
   "source": [
    "#24.Checking if a number is divisible by both 3 and 5\n",
    "num=int(input(\"Enter a number\"))\n",
    "print(num)\n",
    "if num%3==0 and num%5==0:\n",
    "    print(\"The num is divisible by both 3 and 5\")\n",
    "else:\n",
    "    (\"The given number is not divisible\")"
   ]
  },
  {
   "cell_type": "code",
   "execution_count": 46,
   "id": "bbff5acb",
   "metadata": {},
   "outputs": [
    {
     "name": "stdout",
     "output_type": "stream",
     "text": [
      "Addition 68\n"
     ]
    }
   ],
   "source": [
    "#25.A calculator to perform the operations\n",
    "num1=int(input(\"Enter a number:\"))\n",
    "num2=int(input(\"Enter a number:\"))\n",
    "sym=input(\"enter a symbol(+,-,*,/):\")\n",
    "if sym=='+':\n",
    "    print(\"Addition\",num1+num2)\n",
    "elif sym=='-':\n",
    "    print(\"Subtraction:\",num1-num2)\n",
    "elif sym=='*':\n",
    "    print(\"Multiplication:\",num1*num2)\n",
    "elif sym=='/':\n",
    "    print(\"Division:\",num1/num2)\n",
    "else:\n",
    "    print(\"Invalid input\")"
   ]
  },
  {
   "cell_type": "code",
   "execution_count": 48,
   "id": "8c1a8bd3",
   "metadata": {},
   "outputs": [
    {
     "name": "stdout",
     "output_type": "stream",
     "text": [
      "12\n",
      "The person is uneligible\n"
     ]
    }
   ],
   "source": [
    "#26.checking if person is eligible to vote or not\n",
    "age=int(input(\"enter the age of a person:\"))\n",
    "print(age)\n",
    "if age>18:\n",
    "    print('The person is eligible to vote')\n",
    "else:\n",
    "    print(\"The person is uneligible\")"
   ]
  },
  {
   "cell_type": "code",
   "execution_count": 52,
   "id": "d09d6a96",
   "metadata": {},
   "outputs": [
    {
     "name": "stdout",
     "output_type": "stream",
     "text": [
      "34\n",
      "The given num is in the range\n"
     ]
    }
   ],
   "source": [
    "#27.Checking if the number is in range 10 to 50\n",
    "num=int(input(\"Enter a number\"))\n",
    "print(num)\n",
    "if num in range(10,51):\n",
    "    print(\"The given num is in the range\")\n",
    "else:\n",
    "    ('Not in the range')"
   ]
  },
  {
   "cell_type": "code",
   "execution_count": 55,
   "id": "3e2c75a1",
   "metadata": {},
   "outputs": [
    {
     "name": "stdout",
     "output_type": "stream",
     "text": [
      "x and y point to same object\n"
     ]
    }
   ],
   "source": [
    "#28.checking if two variables point to the same object using is\n",
    "x=10\n",
    "y=10\n",
    "if x is y:\n",
    "    print(\"x and y point to same object\")\n",
    "else:\n",
    "    print(\"They are not\")"
   ]
  },
  {
   "cell_type": "code",
   "execution_count": 61,
   "id": "e96774ba",
   "metadata": {},
   "outputs": [
    {
     "name": "stdout",
     "output_type": "stream",
     "text": [
      "Inverted: False\n"
     ]
    }
   ],
   "source": [
    "#29.using not to convert a boolean condition\n",
    "x = bool(int(input(\"Enter 0 or 1: \")))\n",
    "print(\"Inverted:\", not x)\n"
   ]
  },
  {
   "cell_type": "code",
   "execution_count": 60,
   "id": "3506ab42",
   "metadata": {},
   "outputs": [
    {
     "name": "stdout",
     "output_type": "stream",
     "text": [
      "2003\n",
      "Not a leap year\n"
     ]
    }
   ],
   "source": [
    "#30.Writing an expression using and and or tp check multiple conditions\n",
    "year=int(input(\"Enter the year\"))\n",
    "print(year)\n",
    "if year%4==0 and year%100!=0 or  year%400==0:\n",
    "    print(\"The given year is a leap year\")\n",
    "else:\n",
    "    print(\"Not a leap year\")"
   ]
  }
 ],
 "metadata": {
  "kernelspec": {
   "display_name": "Python 3",
   "language": "python",
   "name": "python3"
  },
  "language_info": {
   "codemirror_mode": {
    "name": "ipython",
    "version": 3
   },
   "file_extension": ".py",
   "mimetype": "text/x-python",
   "name": "python",
   "nbconvert_exporter": "python",
   "pygments_lexer": "ipython3",
   "version": "3.13.3"
  }
 },
 "nbformat": 4,
 "nbformat_minor": 5
}
