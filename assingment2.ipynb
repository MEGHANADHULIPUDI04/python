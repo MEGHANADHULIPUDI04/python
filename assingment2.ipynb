{
 "cells": [
  {
   "cell_type": "code",
   "execution_count": 1,
   "id": "802f4fdf",
   "metadata": {},
   "outputs": [
    {
     "name": "stdout",
     "output_type": "stream",
     "text": [
      "{'banana', 'kiwi', 'apple'}\n"
     ]
    }
   ],
   "source": [
    "#sets\n",
    "my_set={\"apple\",\"banana\",\"kiwi\"}\n",
    "print(my_set)"
   ]
  },
  {
   "cell_type": "code",
   "execution_count": null,
   "id": "06bf860e",
   "metadata": {},
   "outputs": [
    {
     "name": "stdout",
     "output_type": "stream",
     "text": [
      "3\n"
     ]
    }
   ],
   "source": [
    "#length of the set\n",
    "my_set={\"apple\",\"banana\",\"kiwi\"}\n",
    "print(len(my_set))\n"
   ]
  },
  {
   "cell_type": "code",
   "execution_count": 4,
   "id": "472f54ff",
   "metadata": {},
   "outputs": [
    {
     "name": "stdout",
     "output_type": "stream",
     "text": [
      "{1, 3, 4, 5, 6, 7}\n"
     ]
    }
   ],
   "source": [
    "#duplicates\n",
    "set1=set((1,4,3,6,7,1,5,1))\n",
    "print(set1)"
   ]
  },
  {
   "cell_type": "code",
   "execution_count": 5,
   "id": "7e6ecf99",
   "metadata": {},
   "outputs": [
    {
     "name": "stdout",
     "output_type": "stream",
     "text": [
      "{1, 2, 3, 4, 5, 7, 8}\n"
     ]
    }
   ],
   "source": [
    "#add\n",
    "my_set={2,4,5,3,7,1}\n",
    "my_set.add(8)\n",
    "print(my_set)"
   ]
  },
  {
   "cell_type": "code",
   "execution_count": 6,
   "id": "d684367d",
   "metadata": {},
   "outputs": [
    {
     "name": "stdout",
     "output_type": "stream",
     "text": [
      "{1, 2, 3, 4, 5, 'kiwi', 7, 'apple', 'banana'}\n"
     ]
    }
   ],
   "source": [
    "#update\n",
    "my_set={2,4,5,3,7,1}\n",
    "my_set1={\"apple\",\"banana\",\"kiwi\"}\n",
    "my_set.update(my_set1)\n",
    "print(my_set)\n"
   ]
  },
  {
   "cell_type": "code",
   "execution_count": 9,
   "id": "70982d4a",
   "metadata": {},
   "outputs": [
    {
     "name": "stdout",
     "output_type": "stream",
     "text": [
      "{'banana', 'kiwi'}\n",
      "{'banana', 'kiwi'}\n",
      "banana\n"
     ]
    }
   ],
   "source": [
    "#remove,discard,pop\n",
    "my_set={\"apple\",\"banana\",\"kiwi\"}\n",
    "my_set.remove(\"apple\")\n",
    "print(my_set)\n",
    "my_set.discard(\"apple\")\n",
    "print(my_set)\n",
    "x=my_set.pop()\n",
    "print(x)"
   ]
  }
 ],
 "metadata": {
  "kernelspec": {
   "display_name": "Python 3",
   "language": "python",
   "name": "python3"
  },
  "language_info": {
   "codemirror_mode": {
    "name": "ipython",
    "version": 3
   },
   "file_extension": ".py",
   "mimetype": "text/x-python",
   "name": "python",
   "nbconvert_exporter": "python",
   "pygments_lexer": "ipython3",
   "version": "3.13.3"
  }
 },
 "nbformat": 4,
 "nbformat_minor": 5
}
